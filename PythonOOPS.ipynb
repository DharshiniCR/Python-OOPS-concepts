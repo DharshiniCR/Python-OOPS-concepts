{
 "cells": [
  {
   "cell_type": "markdown",
   "metadata": {},
   "source": [
    "#### CLASS & OBJECTS\n",
    "-\tcollection of objects\n",
    "-\tcontains the blueprints or the prototype from which the objects are being created\n",
    "-\tIt is a logical entity that contains some attributes and methods\n",
    "-\tClasses are created by keyword class.\n",
    "-\tAttributes are the variables that belong to a class.\n",
    "-\tAttributes are always public and can be accessed using the dot (.) operator. Eg.: Myclass.Myattribute"
   ]
  },
  {
   "cell_type": "code",
   "execution_count": 525,
   "metadata": {},
   "outputs": [],
   "source": [
    "# DEFINING A CLASS CALLED 'Car'\n",
    "class Car:\n",
    "\n",
    "    # CLASS ATTRIBUTE SHARED BY ALL THE INSTANCES\n",
    "    wheels = 4\n",
    "\n",
    "    # CONSTRUCTOR METHOD TO INITIALISE THE INSTANCE ATTRIBUTES\n",
    "    def __init__(self,make,model,color,year) -> None:\n",
    "        \n",
    "        # BELOW ARE THE INSTANCE ATTRIBUTES\n",
    "        self.make = make\n",
    "        self.model = model\n",
    "        self.color = color\n",
    "        self.year = year\n",
    "\n",
    "    # INSTANCE METHOD TO DISPLAY THE CAR DETAILS \n",
    "    def display_info(self):\n",
    "        # print(\"Car info\\nCompany: \",self.make)\n",
    "        # print(\"Model:   \",self.model)\n",
    "        # print(\"Color:   \",self.color)\n",
    "        # print(\"Year:    \",self.year)\n",
    "        \n",
    "        # contains the key of the dictionary alone\n",
    "        # print(self.__dict__)\n",
    "\n",
    "        # contains the key value pair as a tuple\n",
    "        # print(self.__dict__.items()) \n",
    "\n",
    "        print(\"CAR INFO\")\n",
    "        for key,value in self.__dict__.items():\n",
    "            print(key,\": \",value)\n",
    "\n",
    "    # INSTANCE METHOD TO UPDATE THE INSTANCE ATTRIBUTE 'color'\n",
    "    def update_color(self,value1):\n",
    "        self.color = value1\n",
    "        print(f\"Color is updated to {value1}\")\n",
    "\n",
    "    # INSTANCE METHOD TO DISPLAY THE CLASS ATTRIBUTE\n",
    "    def wheel_info(cls):\n",
    "        print(\"(Instance method) Number of wheels: \",cls.wheels)\n",
    "    \n",
    "    # CLASS METHOD TO DISPLAY THE CLASS ATTRIBUTE\n",
    "    @classmethod # Decorator\n",
    "    def wheel_info2(cls):\n",
    "        print(\"(Class method) Number of wheels: \", cls.wheels)\n",
    "\n",
    "    # INSTANCE METHOD TO CHANGE THE ATTRIBUTE TO IT'S LOWERCASE BEFORE CHECKING/ADDING IT AS AN INSTANCE ATTRIBUTE\n",
    "    def change_to_lower(self,string1):\n",
    "        return(string1.lower())\n",
    "\n",
    "    # INSTANCE METHOD TO UPDATE ANY ATTRIBUTE WITH THE GIVEN VALUE\n",
    "    def update_any_attr(self,attribute_name,value1):\n",
    "        attribute_name = self.change_to_lower(attribute_name)\n",
    "        if hasattr(self,attribute_name):\n",
    "            old_val = getattr(self,attribute_name)\n",
    "            setattr(self,attribute_name,value1)\n",
    "            print(f\"{attribute_name} is updated from {old_val} to {value1}\")\n",
    "        else:\n",
    "            print(f'No attribute named {attribute_name} found')\n",
    "\n",
    "    # INSTANCE METHOD TO ADD A NEW INSTANCE ATTRIBUTE\n",
    "    def add_an_attr(self,attribute_name,value):\n",
    "        attribute_name = self.change_to_lower(attribute_name)\n",
    "        if not hasattr(self,attribute_name):\n",
    "            setattr(self,attribute_name,value)\n",
    "            print(f\"New attribute '{attribute_name}' is added with the value '{value}'\")\n",
    "        else:\n",
    "            print(f'The attribute {attribute_name} already exist')\n",
    "            existing = getattr(self,attribute_name)\n",
    "            print(f'self.{attribute_name}: {existing}')"
   ]
  },
  {
   "cell_type": "code",
   "execution_count": 526,
   "metadata": {},
   "outputs": [
    {
     "name": "stdout",
     "output_type": "stream",
     "text": [
      "CAR INFO\n",
      "make :  Tesla\n",
      "model :  1\n",
      "color :  Black\n",
      "year :  2023\n"
     ]
    }
   ],
   "source": [
    "Car_object = Car('Tesla','1','Black','2023')\n",
    "Car_object.display_info()\n"
   ]
  },
  {
   "cell_type": "code",
   "execution_count": 527,
   "metadata": {},
   "outputs": [
    {
     "name": "stdout",
     "output_type": "stream",
     "text": [
      "Color is updated to Matte Black\n"
     ]
    }
   ],
   "source": [
    "Car_object.update_color('Matte Black')"
   ]
  },
  {
   "cell_type": "code",
   "execution_count": 528,
   "metadata": {},
   "outputs": [
    {
     "name": "stdout",
     "output_type": "stream",
     "text": [
      "CAR INFO\n",
      "make :  Tesla\n",
      "model :  1\n",
      "color :  Matte Black\n",
      "year :  2023\n"
     ]
    }
   ],
   "source": [
    "Car_object.display_info()"
   ]
  },
  {
   "cell_type": "code",
   "execution_count": 529,
   "metadata": {},
   "outputs": [
    {
     "name": "stdout",
     "output_type": "stream",
     "text": [
      "(Instance method) Number of wheels:  4\n",
      "(Class method) Number of wheels:  4\n"
     ]
    }
   ],
   "source": [
    "# CALLING INSTANCE METHOD\n",
    "Car_object.wheel_info() \n",
    "\n",
    "# CALLING CLASS METHOD\n",
    "Car.wheel_info2() \n",
    "\n"
   ]
  },
  {
   "cell_type": "code",
   "execution_count": 530,
   "metadata": {},
   "outputs": [
    {
     "name": "stdout",
     "output_type": "stream",
     "text": [
      "(Instance method) Number of wheels:  4\n"
     ]
    }
   ],
   "source": [
    "# CALLING THE INSTANCE METHOD VIA THE CLASS BY PASSING THE CLASS OBJECT\n",
    "Car.wheel_info(Car_object) "
   ]
  },
  {
   "cell_type": "code",
   "execution_count": 531,
   "metadata": {},
   "outputs": [
    {
     "name": "stdout",
     "output_type": "stream",
     "text": [
      "color is updated from Matte Black to Black\n"
     ]
    }
   ],
   "source": [
    "Car_object.update_any_attr('color','Black')"
   ]
  },
  {
   "cell_type": "code",
   "execution_count": 532,
   "metadata": {},
   "outputs": [
    {
     "name": "stdout",
     "output_type": "stream",
     "text": [
      "CAR INFO\n",
      "make :  Tesla\n",
      "model :  1\n",
      "color :  Black\n",
      "year :  2023\n"
     ]
    }
   ],
   "source": [
    "Car_object.display_info()"
   ]
  },
  {
   "cell_type": "code",
   "execution_count": 533,
   "metadata": {},
   "outputs": [
    {
     "name": "stdout",
     "output_type": "stream",
     "text": [
      "year is updated from 2023 to 2020\n"
     ]
    }
   ],
   "source": [
    "Car_object.update_any_attr('year','2020')"
   ]
  },
  {
   "cell_type": "code",
   "execution_count": 534,
   "metadata": {},
   "outputs": [
    {
     "name": "stdout",
     "output_type": "stream",
     "text": [
      "CAR INFO\n",
      "make :  Tesla\n",
      "model :  1\n",
      "color :  Black\n",
      "year :  2020\n"
     ]
    }
   ],
   "source": [
    "Car_object.display_info()"
   ]
  },
  {
   "cell_type": "code",
   "execution_count": 535,
   "metadata": {},
   "outputs": [
    {
     "name": "stdout",
     "output_type": "stream",
     "text": [
      "year is updated from 2020 to 2020\n"
     ]
    }
   ],
   "source": [
    "Car_object.update_any_attr('Year','2020')"
   ]
  },
  {
   "cell_type": "code",
   "execution_count": 536,
   "metadata": {},
   "outputs": [
    {
     "name": "stdout",
     "output_type": "stream",
     "text": [
      "No attribute named made in found\n"
     ]
    }
   ],
   "source": [
    "Car_object.update_any_attr('Made in','2020')"
   ]
  },
  {
   "cell_type": "code",
   "execution_count": 537,
   "metadata": {},
   "outputs": [
    {
     "name": "stdout",
     "output_type": "stream",
     "text": [
      "New attribute 'serviced' is added with the value 'yes'\n"
     ]
    }
   ],
   "source": [
    "Car_object.add_an_attr('Serviced','yes')"
   ]
  },
  {
   "cell_type": "code",
   "execution_count": 538,
   "metadata": {},
   "outputs": [
    {
     "name": "stdout",
     "output_type": "stream",
     "text": [
      "CAR INFO\n",
      "make :  Tesla\n",
      "model :  1\n",
      "color :  Black\n",
      "year :  2020\n",
      "serviced :  yes\n"
     ]
    }
   ],
   "source": [
    "Car_object.display_info()"
   ]
  },
  {
   "cell_type": "code",
   "execution_count": 539,
   "metadata": {},
   "outputs": [
    {
     "name": "stdout",
     "output_type": "stream",
     "text": [
      "CAR INFO\n",
      "make :  Tesla\n",
      "model :  Model S\n",
      "color :  Red\n",
      "year :  2022\n",
      "Color is updated to Blue\n",
      "New attribute 'owner' is added with the value 'Alice'\n",
      "CAR INFO\n",
      "make :  Tesla\n",
      "model :  Model S\n",
      "color :  Blue\n",
      "year :  2022\n",
      "owner :  Alice\n",
      "(Instance method) Number of wheels:  4\n"
     ]
    }
   ],
   "source": [
    "# Example Usage\n",
    "my_car = Car(\"Tesla\", \"Model S\", \"Red\", 2022)\n",
    "\n",
    "# Display initial car information\n",
    "my_car.display_info()\n",
    "\n",
    "# Update color\n",
    "my_car.update_color(\"Blue\")\n",
    "\n",
    "# Add a new attribute\n",
    "my_car.add_an_attr(\"owner\", \"Alice\")\n",
    "\n",
    "# Display updated information\n",
    "my_car.display_info()\n",
    "\n",
    "# Display wheel information\n",
    "my_car.wheel_info()"
   ]
  },
  {
   "cell_type": "markdown",
   "metadata": {},
   "source": [
    "#### SINGLE INHERITANCE\n",
    "-\tcapability of one class to derive or inherit the properties from another class. \n",
    "-\tderived class or child class\n",
    "-\tbase class or parent class\n",
    "-\tIt represents real-world relationships well.\n",
    "-\tIt provides the reusability of a code. \n",
    "-\tallows us to add more features to a class without modifying it.\n",
    "-\tIt is transitive in nature"
   ]
  },
  {
   "cell_type": "code",
   "execution_count": 540,
   "metadata": {},
   "outputs": [],
   "source": [
    "# Base class\n",
    "class Animal:\n",
    "    def __init__(self, type, diet) -> None:\n",
    "        self.type = type\n",
    "        self.diet = diet\n",
    "\n",
    "    def display_info(self):\n",
    "        print(\"ANIMAL INFO\\n\")\n",
    "        for key,value in self.__dict__.items():\n",
    "            print(key,\": \",value)\n",
    "\n",
    "# Derived class\n",
    "class Dog(Animal):\n",
    "    def __init__(self, type, diet,breed_name):\n",
    "        \n",
    "        # Call the constructor of the parent class\n",
    "        super().__init__(type, diet)\n",
    "        self.breed_name = breed_name\n",
    "\n",
    "    def display_info(self):\n",
    "        # Call the display_info method from the parent class\n",
    "        # super().display_info()  # This will print animal info\n",
    "        print(\"DOG INFO\\n\")\n",
    "        for key, value in self.__dict__.items():\n",
    "            if key not in Animal.__dict__:  # To avoid redundancy\n",
    "                print(key, \":\", value)"
   ]
  },
  {
   "cell_type": "code",
   "execution_count": 541,
   "metadata": {},
   "outputs": [
    {
     "name": "stdout",
     "output_type": "stream",
     "text": [
      "ANIMAL INFO\n",
      "\n",
      "type :  Pet\n",
      "diet :  Carnivore\n"
     ]
    }
   ],
   "source": [
    "animal_info = Animal(\"Pet\", \"Carnivore\")\n",
    "animal_info.display_info()"
   ]
  },
  {
   "cell_type": "code",
   "execution_count": 542,
   "metadata": {},
   "outputs": [
    {
     "name": "stdout",
     "output_type": "stream",
     "text": [
      "DOG INFO\n",
      "\n",
      "type : Husky\n",
      "diet : Pet\n",
      "breed_name : Carnivore\n"
     ]
    }
   ],
   "source": [
    "dog_info = Dog(\"Husky\",\"Pet\", \"Carnivore\")\n",
    "dog_info.display_info()"
   ]
  },
  {
   "cell_type": "markdown",
   "metadata": {},
   "source": [
    "#### MULTICLASS INHERITANCE\n",
    "- class is derived from another derived class"
   ]
  },
  {
   "cell_type": "code",
   "execution_count": 543,
   "metadata": {},
   "outputs": [
    {
     "name": "stdout",
     "output_type": "stream",
     "text": [
      "Species: Canine\n",
      "Habitat: Domestic\n",
      "Breed: Labrador\n"
     ]
    }
   ],
   "source": [
    "# Base class\n",
    "class Animal:\n",
    "    def __init__(self, species):\n",
    "        self.species = species\n",
    "\n",
    "    def display_info(self):\n",
    "        print(f\"Species: {self.species}\")\n",
    "\n",
    "\n",
    "# Intermediate class\n",
    "class Mammal(Animal):\n",
    "    def __init__(self, species, habitat):\n",
    "        super().__init__(species)\n",
    "        self.habitat = habitat\n",
    "\n",
    "    def display_info(self):\n",
    "        super().display_info()  # Call the base class method\n",
    "        print(f\"Habitat: {self.habitat}\")\n",
    "\n",
    "\n",
    "# Derived class\n",
    "class Dog(Mammal):\n",
    "    def __init__(self, species, habitat, breed):\n",
    "        super().__init__(species, habitat)\n",
    "        self.breed = breed\n",
    "\n",
    "    def display_info(self):\n",
    "        super().display_info()  # Call the intermediate class method\n",
    "        print(f\"Breed: {self.breed}\")\n",
    "\n",
    "\n",
    "# Example usage\n",
    "dog = Dog(\"Canine\", \"Domestic\", \"Labrador\")\n",
    "dog.display_info()\n"
   ]
  },
  {
   "cell_type": "markdown",
   "metadata": {},
   "source": [
    "#### MULTIPLE INHERITANCE\n",
    "- class can inherit from more than one class"
   ]
  },
  {
   "cell_type": "code",
   "execution_count": 544,
   "metadata": {},
   "outputs": [
    {
     "name": "stdout",
     "output_type": "stream",
     "text": [
      "Pet Name: Buddy\n",
      "Service Type: Guide\n",
      "Breed: Golden Retriever\n"
     ]
    }
   ],
   "source": [
    "# First base class\n",
    "class Pet:\n",
    "    def __init__(self, name):\n",
    "        self.name = name\n",
    "\n",
    "    def display_info(self):\n",
    "        print(f\"Pet Name: {self.name}\")\n",
    "\n",
    "\n",
    "# Second base class\n",
    "class ServiceAnimal:\n",
    "    def __init__(self, service_type):\n",
    "        self.service_type = service_type\n",
    "\n",
    "    def display_service_info(self):\n",
    "        print(f\"Service Type: {self.service_type}\")\n",
    "\n",
    "\n",
    "# Derived class\n",
    "class Dog(Pet, ServiceAnimal):\n",
    "    def __init__(self, name, service_type, breed):\n",
    "        Pet.__init__(self, name)  # Initialize the Pet class\n",
    "        ServiceAnimal.__init__(self, service_type)  # Initialize the ServiceAnimal class\n",
    "        self.breed = breed\n",
    "\n",
    "    def display_info(self):\n",
    "        Pet.display_info(self)  # Call the method from the Pet class\n",
    "        ServiceAnimal.display_service_info(self)  # Call the method from the ServiceAnimal class\n",
    "        print(f\"Breed: {self.breed}\")\n",
    "\n",
    "\n",
    "# Example usage\n",
    "service_dog = Dog(\"Buddy\", \"Guide\", \"Golden Retriever\")\n",
    "service_dog.display_info()\n"
   ]
  },
  {
   "cell_type": "markdown",
   "metadata": {},
   "source": [
    "#### HIERARCHICAL INHERITANCE\n",
    "- multiple derived classes inherit from a single base class."
   ]
  },
  {
   "cell_type": "code",
   "execution_count": 545,
   "metadata": {},
   "outputs": [
    {
     "name": "stdout",
     "output_type": "stream",
     "text": [
      "Dog Information:\n",
      "Species: Canine\n",
      "Breed: Labrador\n",
      "\n",
      "Cat Information:\n",
      "Species: Feline\n",
      "Breed: Siamese\n"
     ]
    }
   ],
   "source": [
    "# Base class\n",
    "class Animal:\n",
    "    def __init__(self, species):\n",
    "        self.species = species\n",
    "\n",
    "    def display_info(self):\n",
    "        print(f\"Species: {self.species}\")\n",
    "\n",
    "\n",
    "# Derived class 1\n",
    "class Dog(Animal):\n",
    "    def __init__(self, breed):\n",
    "        super().__init__(\"Canine\")  # Set the species to Canine\n",
    "        self.breed = breed\n",
    "\n",
    "    def display_info(self):\n",
    "        super().display_info()  # Call the base class method\n",
    "        print(f\"Breed: {self.breed}\")\n",
    "\n",
    "\n",
    "# Derived class 2\n",
    "class Cat(Animal):\n",
    "    def __init__(self, breed):\n",
    "        super().__init__(\"Feline\")  # Set the species to Feline\n",
    "        self.breed = breed\n",
    "\n",
    "    def display_info(self):\n",
    "        super().display_info()  # Call the base class method\n",
    "        print(f\"Breed: {self.breed}\")\n",
    "\n",
    "\n",
    "# Example usage\n",
    "dog = Dog(\"Labrador\")\n",
    "cat = Cat(\"Siamese\")\n",
    "\n",
    "print(\"Dog Information:\")\n",
    "dog.display_info()\n",
    "\n",
    "print(\"\\nCat Information:\")\n",
    "cat.display_info()\n"
   ]
  },
  {
   "cell_type": "code",
   "execution_count": 552,
   "metadata": {},
   "outputs": [
    {
     "name": "stdout",
     "output_type": "stream",
     "text": [
      "Labrador\n"
     ]
    }
   ],
   "source": [
    "print(dog.breed)"
   ]
  },
  {
   "cell_type": "markdown",
   "metadata": {},
   "source": [
    "#### ENCAPSULATION\n",
    "\n",
    "-\tidea of wrapping data and the methods that work on data within one unit. \n",
    "-\tThis puts restrictions on accessing variables and methods directly and can prevent the accidental modification of data. \n",
    "-\tTo prevent accidental change, an object’s variable can only be changed by an object’s method. Those types of variables are known as private variables.\n",
    "-\tA class is an example of encapsulation as it encapsulates all the data that is member functions, variables, etc."
   ]
  },
  {
   "cell_type": "code",
   "execution_count": 546,
   "metadata": {},
   "outputs": [],
   "source": [
    "class BankAccount:\n",
    "    def __init__(self, account_holder, initial_balance=0):\n",
    "        self.account_holder = account_holder\n",
    "        # Private attribute\n",
    "        self.__balance = initial_balance\n",
    "\n",
    "    # Method to deposit money\n",
    "    def deposit(self, amount):\n",
    "        if amount > 0:\n",
    "            self.__balance += amount\n",
    "            print(f\"Deposited: ${amount}. New balance: ${self.__balance}\")\n",
    "        else:\n",
    "            print(\"Deposit amount must be positive.\")\n",
    "\n",
    "    # Method to withdraw money\n",
    "    def withdraw(self, amount):\n",
    "        if 0 < amount <= self.__balance:\n",
    "            self.__balance -= amount\n",
    "            print(f\"Withdrew: ${amount}. New balance: ${self.__balance}\")\n",
    "        else:\n",
    "            print(\"Insufficient funds or invalid withdrawal amount.\")\n",
    "\n",
    "    # Method to get the current balance\n",
    "    def get_balance(self):\n",
    "        return self.__balance"
   ]
  },
  {
   "cell_type": "code",
   "execution_count": 547,
   "metadata": {},
   "outputs": [],
   "source": [
    "# Example usage\n",
    "account = BankAccount(\"Alice\", 100)"
   ]
  },
  {
   "cell_type": "code",
   "execution_count": 548,
   "metadata": {},
   "outputs": [
    {
     "name": "stdout",
     "output_type": "stream",
     "text": [
      "Deposited: $50. New balance: $150\n"
     ]
    }
   ],
   "source": [
    "# Accessing the public method to deposit money\n",
    "account.deposit(50)   "
   ]
  },
  {
   "cell_type": "code",
   "execution_count": 549,
   "metadata": {},
   "outputs": [
    {
     "name": "stdout",
     "output_type": "stream",
     "text": [
      "Withdrew: $30. New balance: $120\n"
     ]
    }
   ],
   "source": [
    "# Accessing the public method to withdraw money\n",
    "account.withdraw(30)"
   ]
  },
  {
   "cell_type": "code",
   "execution_count": 550,
   "metadata": {},
   "outputs": [
    {
     "name": "stdout",
     "output_type": "stream",
     "text": [
      "Current balance: $120\n"
     ]
    }
   ],
   "source": [
    "# Accessing the balance using the getter method\n",
    "print(f\"Current balance: ${account.get_balance()}\")"
   ]
  },
  {
   "cell_type": "code",
   "execution_count": 551,
   "metadata": {},
   "outputs": [
    {
     "ename": "AttributeError",
     "evalue": "'BankAccount' object has no attribute '__balance'",
     "output_type": "error",
     "traceback": [
      "\u001b[0;31m---------------------------------------------------------------------------\u001b[0m",
      "\u001b[0;31mAttributeError\u001b[0m                            Traceback (most recent call last)",
      "Cell \u001b[0;32mIn[551], line 2\u001b[0m\n\u001b[1;32m      1\u001b[0m \u001b[38;5;66;03m# Attempting to access the private attribute directly (will raise an AttributeError)\u001b[39;00m\n\u001b[0;32m----> 2\u001b[0m \u001b[38;5;28mprint\u001b[39m(\u001b[43maccount\u001b[49m\u001b[38;5;241;43m.\u001b[39;49m\u001b[43m__balance\u001b[49m)  \u001b[38;5;66;03m# Uncommenting this line will raise an error\u001b[39;00m\n",
      "\u001b[0;31mAttributeError\u001b[0m: 'BankAccount' object has no attribute '__balance'"
     ]
    }
   ],
   "source": [
    "# Attempting to access the private attribute directly (will raise an AttributeError)\n",
    "print(account.__balance)  # Uncommenting this line will raise an error"
   ]
  },
  {
   "cell_type": "markdown",
   "metadata": {},
   "source": [
    "#### POLYMORPHISM\n",
    "- having many forms\n",
    "- same method name to be used for different types or classes\n",
    "- It can be achieved through method overriding and method overloading\n"
   ]
  },
  {
   "cell_type": "code",
   "execution_count": 561,
   "metadata": {},
   "outputs": [],
   "source": [
    "# Base class\n",
    "class Animal:\n",
    "    def speak(self):\n",
    "        # TO MAKE SURE THAT SUBCLASS IMPLEMENT THIS METHOD\n",
    "        raise NotImplementedError(\"Subclass must implement abstract method\") \n",
    "\n",
    "# Derived class 1\n",
    "class Dog(Animal):\n",
    "    def speak(self):\n",
    "        return \"Woof!\" # OVERRIDED THE PARENT CLASS BY RETURNING \"Woof!\"\n",
    "\n",
    "# Derived class 2\n",
    "class Cat(Animal):\n",
    "    def speak(self):\n",
    "        return \"Meow!\"\n",
    "\n",
    "# Derived class 3\n",
    "class Cow(Animal):\n",
    "    def speak(self):\n",
    "        return \"Moo!\"\n",
    "\n",
    "# Derived class 4\n",
    "class Bull(Animal):\n",
    "    # NOT DEFINING THE 'speak' METHOD TO TEST\n",
    "    pass\n",
    "\n",
    "# Example of Method Overloading within the Dog class\n",
    "class DogWithOverload(Dog):\n",
    "    def speak(self, times=1):  # Default to 1 time\n",
    "        return \"Woof! \" * times  # Overloaded method with a parameter\n",
    "\n",
    "# Function to demonstrate polymorphism\n",
    "def animal_sound(animal):\n",
    "    print(animal.speak())\n",
    "\n",
    "# Function to demonstrate method overloading\n",
    "def animal_speak(dog, times=1):\n",
    "    print(dog.speak(times))\n"
   ]
  },
  {
   "cell_type": "code",
   "execution_count": 554,
   "metadata": {},
   "outputs": [],
   "source": [
    "# Example usage\n",
    "dog = Dog()\n",
    "cat = Cat()\n",
    "cow = Cow()\n",
    "bull = Bull()\n"
   ]
  },
  {
   "cell_type": "code",
   "execution_count": 555,
   "metadata": {},
   "outputs": [
    {
     "name": "stdout",
     "output_type": "stream",
     "text": [
      "Woof!\n"
     ]
    }
   ],
   "source": [
    "# Demonstrating method overriding\n",
    "animal_sound(dog)  "
   ]
  },
  {
   "cell_type": "code",
   "execution_count": 556,
   "metadata": {},
   "outputs": [
    {
     "name": "stdout",
     "output_type": "stream",
     "text": [
      "Meow!\n"
     ]
    }
   ],
   "source": [
    "# Demonstrating method overriding\n",
    "animal_sound(cat)  "
   ]
  },
  {
   "cell_type": "code",
   "execution_count": 557,
   "metadata": {},
   "outputs": [
    {
     "name": "stdout",
     "output_type": "stream",
     "text": [
      "Moo!\n"
     ]
    }
   ],
   "source": [
    "# Demonstrating method overriding\n",
    "animal_sound(cow)  "
   ]
  },
  {
   "cell_type": "code",
   "execution_count": 558,
   "metadata": {},
   "outputs": [
    {
     "ename": "NotImplementedError",
     "evalue": "Subclass must implement abstract method",
     "output_type": "error",
     "traceback": [
      "\u001b[0;31m---------------------------------------------------------------------------\u001b[0m",
      "\u001b[0;31mNotImplementedError\u001b[0m                       Traceback (most recent call last)",
      "Cell \u001b[0;32mIn[558], line 1\u001b[0m\n\u001b[0;32m----> 1\u001b[0m \u001b[43manimal_sound\u001b[49m\u001b[43m(\u001b[49m\u001b[43mbull\u001b[49m\u001b[43m)\u001b[49m\n",
      "Cell \u001b[0;32mIn[553], line 27\u001b[0m, in \u001b[0;36manimal_sound\u001b[0;34m(animal)\u001b[0m\n\u001b[1;32m     26\u001b[0m \u001b[38;5;28;01mdef\u001b[39;00m \u001b[38;5;21manimal_sound\u001b[39m(animal):\n\u001b[0;32m---> 27\u001b[0m     \u001b[38;5;28mprint\u001b[39m(\u001b[43manimal\u001b[49m\u001b[38;5;241;43m.\u001b[39;49m\u001b[43mspeak\u001b[49m\u001b[43m(\u001b[49m\u001b[43m)\u001b[49m)\n",
      "Cell \u001b[0;32mIn[553], line 5\u001b[0m, in \u001b[0;36mAnimal.speak\u001b[0;34m(self)\u001b[0m\n\u001b[1;32m      3\u001b[0m \u001b[38;5;28;01mdef\u001b[39;00m \u001b[38;5;21mspeak\u001b[39m(\u001b[38;5;28mself\u001b[39m):\n\u001b[1;32m      4\u001b[0m     \u001b[38;5;66;03m# TO MAKE SURE THAT SUBCLASS IMPLEMENT THIS METHOD\u001b[39;00m\n\u001b[0;32m----> 5\u001b[0m     \u001b[38;5;28;01mraise\u001b[39;00m \u001b[38;5;167;01mNotImplementedError\u001b[39;00m(\u001b[38;5;124m\"\u001b[39m\u001b[38;5;124mSubclass must implement abstract method\u001b[39m\u001b[38;5;124m\"\u001b[39m)\n",
      "\u001b[0;31mNotImplementedError\u001b[0m: Subclass must implement abstract method"
     ]
    }
   ],
   "source": [
    "animal_sound(bull)"
   ]
  },
  {
   "cell_type": "code",
   "execution_count": 562,
   "metadata": {},
   "outputs": [
    {
     "name": "stdout",
     "output_type": "stream",
     "text": [
      "Woof! \n",
      "Woof! Woof! Woof! \n"
     ]
    }
   ],
   "source": [
    "# Using the DogWithOverload class to demonstrate method overloading\n",
    "dog_overloaded = DogWithOverload()\n",
    "animal_speak(dog_overloaded)  \n",
    "animal_speak(dog_overloaded, 3)  "
   ]
  }
 ],
 "metadata": {
  "kernelspec": {
   "display_name": "python3.9_1",
   "language": "python",
   "name": "python3"
  },
  "language_info": {
   "codemirror_mode": {
    "name": "ipython",
    "version": 3
   },
   "file_extension": ".py",
   "mimetype": "text/x-python",
   "name": "python",
   "nbconvert_exporter": "python",
   "pygments_lexer": "ipython3",
   "version": "3.9.20"
  }
 },
 "nbformat": 4,
 "nbformat_minor": 2
}
